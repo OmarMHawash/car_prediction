{
 "cells": [
  {
   "cell_type": "code",
   "execution_count": 3,
   "metadata": {},
   "outputs": [],
   "source": [
    "import pandas as pd\n",
    "from sklearn.metrics import mean_squared_error\n",
    "from sklearn.model_selection import train_test_split\n",
    "from sklearn.metrics import accuracy_score\n",
    "\n",
    "df = pd.read_csv('./content/results/cars_v1.csv')\n",
    "df_cols = ['name', 'model', 'year', 'price', 'color', 'fuelType', 'carOrigin', 'carInsurance', 'gearType', 'mirrorType', 'motorPower', 'drivenKm', 'passengers', 'paymentMethod', 'saleType', 'secondHandStatus']"
   ]
  },
  {
   "cell_type": "code",
   "execution_count": 4,
   "metadata": {},
   "outputs": [
    {
     "name": "stderr",
     "output_type": "stream",
     "text": [
      "C:\\Users\\omarm\\AppData\\Local\\Temp\\ipykernel_10636\\1334516426.py:11: FutureWarning: Automatic reindexing on DataFrame vs Series comparisons is deprecated and will raise ValueError in a future version. Do `left, right = left.align(right, axis=1, copy=False)` before e.g. `left == right`\n",
      "  naDF = naDF[~((df < (Q1 - 1.5 * IQR)) | (df > (Q3 + 1.5 * IQR))).any(axis=1)]\n",
      "C:\\Users\\omarm\\AppData\\Local\\Temp\\ipykernel_10636\\1334516426.py:11: UserWarning: Boolean Series key will be reindexed to match DataFrame index.\n",
      "  naDF = naDF[~((df < (Q1 - 1.5 * IQR)) | (df > (Q3 + 1.5 * IQR))).any(axis=1)]\n",
      "C:\\Users\\omarm\\AppData\\Local\\Temp\\ipykernel_10636\\1334516426.py:21: FutureWarning: Automatic reindexing on DataFrame vs Series comparisons is deprecated and will raise ValueError in a future version. Do `left, right = left.align(right, axis=1, copy=False)` before e.g. `left == right`\n",
      "  fnDF = naDF[~((df < (Q1 - 1.5 * IQR)) | (df > (Q3 + 1.5 * IQR))).any(axis=1)]\n",
      "C:\\Users\\omarm\\AppData\\Local\\Temp\\ipykernel_10636\\1334516426.py:21: UserWarning: Boolean Series key will be reindexed to match DataFrame index.\n",
      "  fnDF = naDF[~((df < (Q1 - 1.5 * IQR)) | (df > (Q3 + 1.5 * IQR))).any(axis=1)]\n"
     ]
    }
   ],
   "source": [
    "import matplotlib.pyplot as plt\n",
    "# 1- Dataframe with dropping all rows with NaN values\n",
    "naDF = df.dropna()\n",
    "\n",
    "# removing outliers \n",
    "Q1 = naDF.quantile(0.25, numeric_only=True)\n",
    "Q3 = naDF.quantile(0.75, numeric_only=True)\n",
    "IQR = Q3 - Q1\n",
    "\n",
    "naDF = naDF[~((df < (Q1 - 1.5 * IQR)) | (df > (Q3 + 1.5 * IQR))).any(axis=1)]\n",
    "\n",
    "# 2- Dataframe with filling all NaN values with fillna (mode) method\n",
    "fnDF = df.fillna(df.mode())\n",
    "\n",
    "# removing outliers \n",
    "Q1 = fnDF.quantile(0.25, numeric_only=True)\n",
    "Q3 = fnDF.quantile(0.75, numeric_only=True)\n",
    "IQR = Q3 - Q1\n",
    "\n",
    "fnDF = naDF[~((df < (Q1 - 1.5 * IQR)) | (df > (Q3 + 1.5 * IQR))).any(axis=1)]\n",
    "\n",
    "# naDF[['price','drivenKm']].plot(kind='scatter', y='drivenKm', x='price')\n",
    "# plt.show()"
   ]
  },
  {
   "cell_type": "code",
   "execution_count": 5,
   "metadata": {},
   "outputs": [
    {
     "name": "stdout",
     "output_type": "stream",
     "text": [
      "Linear Regression: 0.6148694194952673\n",
      "Decision Tree: 0.24418820013033327\n",
      "KNN: 0.3023218706905466\n",
      "Random Forest: 0.04638218923933209\n"
     ]
    }
   ],
   "source": [
    "# using models: linear regression, tree regressor, random forest, KNN\n",
    "from sklearn.linear_model import LinearRegression\n",
    "from sklearn.tree import DecisionTreeRegressor\n",
    "from sklearn.neighbors import KNeighborsRegressor\n",
    "from sklearn.ensemble import RandomForestClassifier\n",
    "\n",
    "\n",
    "X = naDF[['year', 'motorPower', 'drivenKm', 'passengers', 'secondHandStatus']]\n",
    "y = naDF['price']\n",
    "\n",
    "X_train, X_test, y_train, y_test = train_test_split(X, y, test_size=0.25, random_state=33143121)\n",
    "\n",
    "## Linear Regression\n",
    "lr = LinearRegression()\n",
    "lr.fit(X_train, y_train)\n",
    "y_pred = lr.predict(X_test)\n",
    "\n",
    "print(f\"Linear Regression: {lr.score(X_test, y_test)}\")\n",
    "\n",
    "## Decision Tree Regressor\n",
    "dt = DecisionTreeRegressor(random_state=0)\n",
    "dt.fit(X_train, y_train)\n",
    "y_pred = dt.predict(X_test)\n",
    "\n",
    "print(f\"Decision Tree: {dt.score(X_test, y_test)}\")\n",
    "\n",
    "## KNN model\n",
    "knn = KNeighborsRegressor(n_neighbors=5)\n",
    "knn.fit(X_train, y_train)\n",
    "y_pred = knn.predict(X_test)\n",
    "\n",
    "print(f\"KNN: {knn.score(X_test, y_test)}\")\n",
    "\n",
    "## Random Forest Classifier\n",
    "rf = RandomForestClassifier(n_estimators=20)\n",
    "rf.fit(X_train, y_train)\n",
    "y_pred = rf.predict(X_test)\n",
    "print(F\"Random Forest: {accuracy_score(y_test, y_pred)}\")"
   ]
  },
  {
   "cell_type": "code",
   "execution_count": 6,
   "metadata": {},
   "outputs": [
    {
     "name": "stdout",
     "output_type": "stream",
     "text": [
      "[171562.24049736]\n"
     ]
    },
    {
     "name": "stderr",
     "output_type": "stream",
     "text": [
      "c:\\ProgramData\\anaconda3\\Lib\\site-packages\\sklearn\\base.py:464: UserWarning: X does not have valid feature names, but LinearRegression was fitted with feature names\n",
      "  warnings.warn(\n"
     ]
    }
   ],
   "source": [
    "# testing linear regression model\n",
    "myCar = [[2000, 5000, 70000, 4, 1]]\n",
    "pred = lr.predict(myCar)\n",
    "print(pred)"
   ]
  },
  {
   "cell_type": "code",
   "execution_count": 8,
   "metadata": {},
   "outputs": [
    {
     "name": "stdout",
     "output_type": "stream",
     "text": [
      "[171562.24049736]\n"
     ]
    },
    {
     "name": "stderr",
     "output_type": "stream",
     "text": [
      "c:\\ProgramData\\anaconda3\\Lib\\site-packages\\sklearn\\base.py:464: UserWarning: X does not have valid feature names, but LinearRegression was fitted with feature names\n",
      "  warnings.warn(\n"
     ]
    }
   ],
   "source": [
    "# saving the model and loading it\n",
    "import pickle\n",
    "pickle.dump(lr, open('./app/models/model_v1.pkl', 'wb'))\n",
    "\n",
    "model = pickle.load(open('./app/models/model_v1.pkl', 'rb'))\n",
    "print(model.predict([[2000, 5000, 70000, 4, 1]]))"
   ]
  }
 ],
 "metadata": {
  "kernelspec": {
   "display_name": "base",
   "language": "python",
   "name": "python3"
  },
  "language_info": {
   "codemirror_mode": {
    "name": "ipython",
    "version": 3
   },
   "file_extension": ".py",
   "mimetype": "text/x-python",
   "name": "python",
   "nbconvert_exporter": "python",
   "pygments_lexer": "ipython3",
   "version": "3.11.4"
  }
 },
 "nbformat": 4,
 "nbformat_minor": 2
}
